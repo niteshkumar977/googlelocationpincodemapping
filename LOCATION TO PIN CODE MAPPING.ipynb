{
 "cells": [
  {
   "cell_type": "code",
   "execution_count": 3,
   "id": "38826dd0",
   "metadata": {},
   "outputs": [
    {
     "name": "stderr",
     "output_type": "stream",
     "text": [
      "C:\\Users\\Admin\\anaconda3\\Lib\\site-packages\\pandas\\core\\arrays\\masked.py:60: UserWarning: Pandas requires version '1.3.6' or newer of 'bottleneck' (version '1.3.5' currently installed).\n",
      "  from pandas.core import (\n"
     ]
    }
   ],
   "source": [
    "import pandas as pd\n",
    "import numpy as np"
   ]
  },
  {
   "cell_type": "code",
   "execution_count": 4,
   "id": "7a6f58cd",
   "metadata": {},
   "outputs": [
    {
     "name": "stdout",
     "output_type": "stream",
     "text": [
      "C:\\Users\\Admin\\Location to pincode mapping\\Pin code workings\n"
     ]
    }
   ],
   "source": [
    "%cd C:\\Users\\Admin\\Location to pincode mapping\\Pin code workings"
   ]
  },
  {
   "cell_type": "code",
   "execution_count": 5,
   "id": "ed964d21",
   "metadata": {},
   "outputs": [
    {
     "data": {
      "text/html": [
       "<div>\n",
       "<style scoped>\n",
       "    .dataframe tbody tr th:only-of-type {\n",
       "        vertical-align: middle;\n",
       "    }\n",
       "\n",
       "    .dataframe tbody tr th {\n",
       "        vertical-align: top;\n",
       "    }\n",
       "\n",
       "    .dataframe thead th {\n",
       "        text-align: right;\n",
       "    }\n",
       "</style>\n",
       "<table border=\"1\" class=\"dataframe\">\n",
       "  <thead>\n",
       "    <tr style=\"text-align: right;\">\n",
       "      <th></th>\n",
       "      <th>locality</th>\n",
       "      <th>latitude</th>\n",
       "      <th>longitude</th>\n",
       "    </tr>\n",
       "  </thead>\n",
       "  <tbody>\n",
       "    <tr>\n",
       "      <th>0</th>\n",
       "      <td>Nawada</td>\n",
       "      <td>28.624157</td>\n",
       "      <td>77.036702</td>\n",
       "    </tr>\n",
       "    <tr>\n",
       "      <th>1</th>\n",
       "      <td>Sector 57, Gurgaon</td>\n",
       "      <td>28.423441</td>\n",
       "      <td>77.076593</td>\n",
       "    </tr>\n",
       "    <tr>\n",
       "      <th>2</th>\n",
       "      <td>Bara Tooti Chowk</td>\n",
       "      <td>28.658524</td>\n",
       "      <td>77.212699</td>\n",
       "    </tr>\n",
       "    <tr>\n",
       "      <th>3</th>\n",
       "      <td>Kurmaguda, Hyderabad, Telangana, India</td>\n",
       "      <td>17.362564</td>\n",
       "      <td>78.500056</td>\n",
       "    </tr>\n",
       "    <tr>\n",
       "      <th>4</th>\n",
       "      <td>Sector 42</td>\n",
       "      <td>28.468788</td>\n",
       "      <td>77.296542</td>\n",
       "    </tr>\n",
       "  </tbody>\n",
       "</table>\n",
       "</div>"
      ],
      "text/plain": [
       "                                 locality   latitude  longitude\n",
       "0                                  Nawada  28.624157  77.036702\n",
       "1                      Sector 57, Gurgaon  28.423441  77.076593\n",
       "2                        Bara Tooti Chowk  28.658524  77.212699\n",
       "3  Kurmaguda, Hyderabad, Telangana, India  17.362564  78.500056\n",
       "4                               Sector 42  28.468788  77.296542"
      ]
     },
     "execution_count": 5,
     "metadata": {},
     "output_type": "execute_result"
    }
   ],
   "source": [
    "table1 = pd.read_csv('locality_lat_long_master.csv',encoding='latin-1')\n",
    "table1.head()"
   ]
  },
  {
   "cell_type": "code",
   "execution_count": 6,
   "id": "978535f3",
   "metadata": {},
   "outputs": [
    {
     "data": {
      "text/html": [
       "<div>\n",
       "<style scoped>\n",
       "    .dataframe tbody tr th:only-of-type {\n",
       "        vertical-align: middle;\n",
       "    }\n",
       "\n",
       "    .dataframe tbody tr th {\n",
       "        vertical-align: top;\n",
       "    }\n",
       "\n",
       "    .dataframe thead th {\n",
       "        text-align: right;\n",
       "    }\n",
       "</style>\n",
       "<table border=\"1\" class=\"dataframe\">\n",
       "  <thead>\n",
       "    <tr style=\"text-align: right;\">\n",
       "      <th></th>\n",
       "      <th>Pincode</th>\n",
       "      <th>Latitude</th>\n",
       "      <th>Longitude</th>\n",
       "    </tr>\n",
       "  </thead>\n",
       "  <tbody>\n",
       "    <tr>\n",
       "      <th>0</th>\n",
       "      <td>691308</td>\n",
       "      <td>8.06000</td>\n",
       "      <td>77.28000</td>\n",
       "    </tr>\n",
       "    <tr>\n",
       "      <th>1</th>\n",
       "      <td>629702</td>\n",
       "      <td>8.08000</td>\n",
       "      <td>77.53000</td>\n",
       "    </tr>\n",
       "    <tr>\n",
       "      <th>2</th>\n",
       "      <td>629702</td>\n",
       "      <td>8.08367</td>\n",
       "      <td>77.54931</td>\n",
       "    </tr>\n",
       "    <tr>\n",
       "      <th>3</th>\n",
       "      <td>629602</td>\n",
       "      <td>8.09000</td>\n",
       "      <td>77.48000</td>\n",
       "    </tr>\n",
       "    <tr>\n",
       "      <th>4</th>\n",
       "      <td>744303</td>\n",
       "      <td>8.09687</td>\n",
       "      <td>93.51756</td>\n",
       "    </tr>\n",
       "  </tbody>\n",
       "</table>\n",
       "</div>"
      ],
      "text/plain": [
       "   Pincode  Latitude  Longitude\n",
       "0   691308   8.06000   77.28000\n",
       "1   629702   8.08000   77.53000\n",
       "2   629702   8.08367   77.54931\n",
       "3   629602   8.09000   77.48000\n",
       "4   744303   8.09687   93.51756"
      ]
     },
     "execution_count": 6,
     "metadata": {},
     "output_type": "execute_result"
    }
   ],
   "source": [
    "table2 = pd.read_csv('pin_code_lat_long_master.csv',encoding='latin-1')\n",
    "table2.head()"
   ]
  },
  {
   "cell_type": "code",
   "execution_count": 7,
   "id": "a33b98b6",
   "metadata": {},
   "outputs": [],
   "source": [
    "table2['Latitude'] = table2['Latitude'].astype(float)\n",
    "table2['Latitude'] = table2['Latitude'].astype(float)"
   ]
  },
  {
   "cell_type": "code",
   "execution_count": 8,
   "id": "177cd391",
   "metadata": {},
   "outputs": [
    {
     "name": "stdout",
     "output_type": "stream",
     "text": [
      "                                 locality   latitude  longitude   Pincode  \\\n",
      "0                                  Nawada  28.624157  77.036702  110059.0   \n",
      "1                      Sector 57, Gurgaon  28.423441  77.076593  122003.0   \n",
      "2                        Bara Tooti Chowk  28.658524  77.212699  110006.0   \n",
      "3  Kurmaguda, Hyderabad, Telangana, India  17.362564  78.500056  500059.0   \n",
      "4                               Sector 42  28.468788  77.296542  121009.0   \n",
      "\n",
      "   Latitude  Longitude  \n",
      "0  28.62150   77.04153  \n",
      "1  28.44650   77.07362  \n",
      "2  28.65942   77.21306  \n",
      "3  17.35628   78.50506  \n",
      "4  28.48811   77.29458  \n"
     ]
    }
   ],
   "source": [
    "# Function to calculate the Euclidean distance\n",
    "def euclidean_distance(row1, row2):\n",
    "    return np.sqrt((row1['latitude'] - row2['Latitude'])**2 + (row1['longitude'] - row2['Longitude'])**2)\n",
    "\n",
    "# Initialize list to hold the minimum distance records\n",
    "min_distance_records = []\n",
    "\n",
    "# Loop over each record in Table 1\n",
    "for i, row1 in table1.iterrows():\n",
    "    # Calculate distance to all records in Table 2\n",
    "    distances = table2.apply(lambda row2: euclidean_distance(row1, row2), axis=1)\n",
    "    # Find the index of the minimum distance\n",
    "    min_index = distances.idxmin()\n",
    "    # Append the record with minimum distance to the list\n",
    "    min_distance_records.append(table2.loc[min_index])\n",
    "\n",
    "# Create a DataFrame from the list of minimum distance records\n",
    "min_distance_df = pd.DataFrame(min_distance_records).reset_index(drop=True)\n",
    "\n",
    "# Concatenate the original Table 1 with the corresponding nearest records from Table 2\n",
    "result = pd.concat([table1, min_distance_df], axis=1)\n",
    "#result.columns = ['x1', 'y1', 'nearest_x2', 'nearest_y2']\n",
    "\n",
    "print(result.head())\n"
   ]
  },
  {
   "cell_type": "code",
   "execution_count": 9,
   "id": "876888f5",
   "metadata": {},
   "outputs": [],
   "source": [
    "result.to_csv('result.csv')"
   ]
  },
  {
   "cell_type": "code",
   "execution_count": null,
   "id": "864501b0",
   "metadata": {},
   "outputs": [],
   "source": []
  }
 ],
 "metadata": {
  "kernelspec": {
   "display_name": "Python 3 (ipykernel)",
   "language": "python",
   "name": "python3"
  },
  "language_info": {
   "codemirror_mode": {
    "name": "ipython",
    "version": 3
   },
   "file_extension": ".py",
   "mimetype": "text/x-python",
   "name": "python",
   "nbconvert_exporter": "python",
   "pygments_lexer": "ipython3",
   "version": "3.11.4"
  }
 },
 "nbformat": 4,
 "nbformat_minor": 5
}
